{
 "cells": [
  {
   "cell_type": "code",
   "execution_count": 1,
   "metadata": {
    "collapsed": true
   },
   "outputs": [],
   "source": [
    "import numpy as np\n",
    "import pandas as pd\n",
    "import matplotlib.pyplot as plt\n",
    "import seaborn as sns\n",
    "import pprint as pp\n",
    "\n",
    "%matplotlib inline"
   ]
  },
  {
   "cell_type": "code",
   "execution_count": 2,
   "metadata": {},
   "outputs": [],
   "source": [
    "train_data = pd.read_csv('data/train.csv')"
   ]
  },
  {
   "cell_type": "code",
   "execution_count": 3,
   "metadata": {
    "collapsed": true
   },
   "outputs": [
    {
     "data": {
      "text/plain": [
       "['id',\n 'timestamp',\n 'full_sq',\n 'life_sq',\n 'floor',\n 'max_floor',\n 'material',\n 'build_year',\n 'num_room',\n 'kitch_sq',\n 'state',\n 'product_type',\n 'sub_area',\n 'area_m',\n 'raion_popul',\n 'green_zone_part',\n 'indust_part',\n 'children_preschool',\n 'preschool_quota',\n 'preschool_education_centers_raion',\n 'children_school',\n 'school_quota',\n 'school_education_centers_raion',\n 'school_education_centers_top_20_raion',\n 'hospital_beds_raion',\n 'healthcare_centers_raion',\n 'university_top_20_raion',\n 'sport_objects_raion',\n 'additional_education_raion',\n 'culture_objects_top_25',\n 'culture_objects_top_25_raion',\n 'shopping_centers_raion',\n 'office_raion',\n 'thermal_power_plant_raion',\n 'incineration_raion',\n 'oil_chemistry_raion',\n 'radiation_raion',\n 'railroad_terminal_raion',\n 'big_market_raion',\n 'nuclear_reactor_raion',\n 'detention_facility_raion',\n 'full_all',\n 'male_f',\n 'female_f',\n 'young_all',\n 'young_male',\n 'young_female',\n 'work_all',\n 'work_male',\n 'work_female',\n 'ekder_all',\n 'ekder_male',\n 'ekder_female',\n '0_6_all',\n '0_6_male',\n '0_6_female',\n '7_14_all',\n '7_14_male',\n '7_14_female',\n '0_17_all',\n '0_17_male',\n '0_17_female',\n '16_29_all',\n '16_29_male',\n '16_29_female',\n '0_13_all',\n '0_13_male',\n '0_13_female',\n 'raion_build_count_with_material_info',\n 'build_count_block',\n 'build_count_wood',\n 'build_count_frame',\n 'build_count_brick',\n 'build_count_monolith',\n 'build_count_panel',\n 'build_count_foam',\n 'build_count_slag',\n 'build_count_mix',\n 'raion_build_count_with_builddate_info',\n 'build_count_before_1920',\n 'build_count_1921-1945',\n 'build_count_1946-1970',\n 'build_count_1971-1995',\n 'build_count_after_1995',\n 'ID_metro',\n 'metro_min_avto',\n 'metro_km_avto',\n 'metro_min_walk',\n 'metro_km_walk',\n 'kindergarten_km',\n 'school_km',\n 'park_km',\n 'green_zone_km',\n 'industrial_km',\n 'water_treatment_km',\n 'cemetery_km',\n 'incineration_km',\n 'railroad_station_walk_km',\n 'railroad_station_walk_min',\n 'ID_railroad_station_walk',\n 'railroad_station_avto_km',\n 'railroad_station_avto_min',\n 'ID_railroad_station_avto',\n 'public_transport_station_km',\n 'public_transport_station_min_walk',\n 'water_km',\n 'water_1line',\n 'mkad_km',\n 'ttk_km',\n 'sadovoe_km',\n 'bulvar_ring_km',\n 'kremlin_km',\n 'big_road1_km',\n 'ID_big_road1',\n 'big_road1_1line',\n 'big_road2_km',\n 'ID_big_road2',\n 'railroad_km',\n 'railroad_1line',\n 'zd_vokzaly_avto_km',\n 'ID_railroad_terminal',\n 'bus_terminal_avto_km',\n 'ID_bus_terminal',\n 'oil_chemistry_km',\n 'nuclear_reactor_km',\n 'radiation_km',\n 'power_transmission_line_km',\n 'thermal_power_plant_km',\n 'ts_km',\n 'big_market_km',\n 'market_shop_km',\n 'fitness_km',\n 'swim_pool_km',\n 'ice_rink_km',\n 'stadium_km',\n 'basketball_km',\n 'hospice_morgue_km',\n 'detention_facility_km',\n 'public_healthcare_km',\n 'university_km',\n 'workplaces_km',\n 'shopping_centers_km',\n 'office_km',\n 'additional_education_km',\n 'preschool_km',\n 'big_church_km',\n 'church_synagogue_km',\n 'mosque_km',\n 'theater_km',\n 'museum_km',\n 'exhibition_km',\n 'catering_km',\n 'ecology',\n 'green_part_500',\n 'prom_part_500',\n 'office_count_500',\n 'office_sqm_500',\n 'trc_count_500',\n 'trc_sqm_500',\n 'cafe_count_500',\n 'cafe_sum_500_min_price_avg',\n 'cafe_sum_500_max_price_avg',\n 'cafe_avg_price_500',\n 'cafe_count_500_na_price',\n 'cafe_count_500_price_500',\n 'cafe_count_500_price_1000',\n 'cafe_count_500_price_1500',\n 'cafe_count_500_price_2500',\n 'cafe_count_500_price_4000',\n 'cafe_count_500_price_high',\n 'big_church_count_500',\n 'church_count_500',\n 'mosque_count_500',\n 'leisure_count_500',\n 'sport_count_500',\n 'market_count_500',\n 'green_part_1000',\n 'prom_part_1000',\n 'office_count_1000',\n 'office_sqm_1000',\n 'trc_count_1000',\n 'trc_sqm_1000',\n 'cafe_count_1000',\n 'cafe_sum_1000_min_price_avg',\n 'cafe_sum_1000_max_price_avg',\n 'cafe_avg_price_1000',\n 'cafe_count_1000_na_price',\n 'cafe_count_1000_price_500',\n 'cafe_count_1000_price_1000',\n 'cafe_count_1000_price_1500',\n 'cafe_count_1000_price_2500',\n 'cafe_count_1000_price_4000',\n 'cafe_count_1000_price_high',\n 'big_church_count_1000',\n 'church_count_1000',\n 'mosque_count_1000',\n 'leisure_count_1000',\n 'sport_count_1000',\n 'market_count_1000',\n 'green_part_1500',\n 'prom_part_1500',\n 'office_count_1500',\n 'office_sqm_1500',\n 'trc_count_1500',\n 'trc_sqm_1500',\n 'cafe_count_1500',\n 'cafe_sum_1500_min_price_avg',\n 'cafe_sum_1500_max_price_avg',\n 'cafe_avg_price_1500',\n 'cafe_count_1500_na_price',\n 'cafe_count_1500_price_500',\n 'cafe_count_1500_price_1000',\n 'cafe_count_1500_price_1500',\n 'cafe_count_1500_price_2500',\n 'cafe_count_1500_price_4000',\n 'cafe_count_1500_price_high',\n 'big_church_count_1500',\n 'church_count_1500',\n 'mosque_count_1500',\n 'leisure_count_1500',\n 'sport_count_1500',\n 'market_count_1500',\n 'green_part_2000',\n 'prom_part_2000',\n 'office_count_2000',\n 'office_sqm_2000',\n 'trc_count_2000',\n 'trc_sqm_2000',\n 'cafe_count_2000',\n 'cafe_sum_2000_min_price_avg',\n 'cafe_sum_2000_max_price_avg',\n 'cafe_avg_price_2000',\n 'cafe_count_2000_na_price',\n 'cafe_count_2000_price_500',\n 'cafe_count_2000_price_1000',\n 'cafe_count_2000_price_1500',\n 'cafe_count_2000_price_2500',\n 'cafe_count_2000_price_4000',\n 'cafe_count_2000_price_high',\n 'big_church_count_2000',\n 'church_count_2000',\n 'mosque_count_2000',\n 'leisure_count_2000',\n 'sport_count_2000',\n 'market_count_2000',\n 'green_part_3000',\n 'prom_part_3000',\n 'office_count_3000',\n 'office_sqm_3000',\n 'trc_count_3000',\n 'trc_sqm_3000',\n 'cafe_count_3000',\n 'cafe_sum_3000_min_price_avg',\n 'cafe_sum_3000_max_price_avg',\n 'cafe_avg_price_3000',\n 'cafe_count_3000_na_price',\n 'cafe_count_3000_price_500',\n 'cafe_count_3000_price_1000',\n 'cafe_count_3000_price_1500',\n 'cafe_count_3000_price_2500',\n 'cafe_count_3000_price_4000',\n 'cafe_count_3000_price_high',\n 'big_church_count_3000',\n 'church_count_3000',\n 'mosque_count_3000',\n 'leisure_count_3000',\n 'sport_count_3000',\n 'market_count_3000',\n 'green_part_5000',\n 'prom_part_5000',\n 'office_count_5000',\n 'office_sqm_5000',\n 'trc_count_5000',\n 'trc_sqm_5000',\n 'cafe_count_5000',\n 'cafe_sum_5000_min_price_avg',\n 'cafe_sum_5000_max_price_avg',\n 'cafe_avg_price_5000',\n 'cafe_count_5000_na_price',\n 'cafe_count_5000_price_500',\n 'cafe_count_5000_price_1000',\n 'cafe_count_5000_price_1500',\n 'cafe_count_5000_price_2500',\n 'cafe_count_5000_price_4000',\n 'cafe_count_5000_price_high',\n 'big_church_count_5000',\n 'church_count_5000',\n 'mosque_count_5000',\n 'leisure_count_5000',\n 'sport_count_5000',\n 'market_count_5000',\n 'price_doc']"
      ]
     },
     "execution_count": 3,
     "metadata": {},
     "output_type": "execute_result"
    }
   ],
   "source": [
    "list(train_data)"
   ]
  },
  {
   "cell_type": "code",
   "execution_count": 4,
   "metadata": {},
   "outputs": [
    {
     "data": {
      "text/html": [
       "<div>\n",
       "<table border=\"1\" class=\"dataframe\">\n",
       "  <thead>\n",
       "    <tr style=\"text-align: right;\">\n",
       "      <th></th>\n",
       "      <th>id</th>\n",
       "      <th>timestamp</th>\n",
       "      <th>full_sq</th>\n",
       "      <th>life_sq</th>\n",
       "      <th>floor</th>\n",
       "      <th>max_floor</th>\n",
       "      <th>material</th>\n",
       "      <th>build_year</th>\n",
       "      <th>num_room</th>\n",
       "      <th>kitch_sq</th>\n",
       "      <th>...</th>\n",
       "      <th>cafe_count_5000_price_2500</th>\n",
       "      <th>cafe_count_5000_price_4000</th>\n",
       "      <th>cafe_count_5000_price_high</th>\n",
       "      <th>big_church_count_5000</th>\n",
       "      <th>church_count_5000</th>\n",
       "      <th>mosque_count_5000</th>\n",
       "      <th>leisure_count_5000</th>\n",
       "      <th>sport_count_5000</th>\n",
       "      <th>market_count_5000</th>\n",
       "      <th>price_doc</th>\n",
       "    </tr>\n",
       "  </thead>\n",
       "  <tbody>\n",
       "    <tr>\n",
       "      <th>0</th>\n",
       "      <td>1</td>\n",
       "      <td>2011-08-20</td>\n",
       "      <td>43</td>\n",
       "      <td>27.0</td>\n",
       "      <td>4.0</td>\n",
       "      <td>NaN</td>\n",
       "      <td>NaN</td>\n",
       "      <td>NaN</td>\n",
       "      <td>NaN</td>\n",
       "      <td>NaN</td>\n",
       "      <td>...</td>\n",
       "      <td>9</td>\n",
       "      <td>4</td>\n",
       "      <td>0</td>\n",
       "      <td>13</td>\n",
       "      <td>22</td>\n",
       "      <td>1</td>\n",
       "      <td>0</td>\n",
       "      <td>52</td>\n",
       "      <td>4</td>\n",
       "      <td>5850000</td>\n",
       "    </tr>\n",
       "    <tr>\n",
       "      <th>1</th>\n",
       "      <td>2</td>\n",
       "      <td>2011-08-23</td>\n",
       "      <td>34</td>\n",
       "      <td>19.0</td>\n",
       "      <td>3.0</td>\n",
       "      <td>NaN</td>\n",
       "      <td>NaN</td>\n",
       "      <td>NaN</td>\n",
       "      <td>NaN</td>\n",
       "      <td>NaN</td>\n",
       "      <td>...</td>\n",
       "      <td>15</td>\n",
       "      <td>3</td>\n",
       "      <td>0</td>\n",
       "      <td>15</td>\n",
       "      <td>29</td>\n",
       "      <td>1</td>\n",
       "      <td>10</td>\n",
       "      <td>66</td>\n",
       "      <td>14</td>\n",
       "      <td>6000000</td>\n",
       "    </tr>\n",
       "    <tr>\n",
       "      <th>2</th>\n",
       "      <td>3</td>\n",
       "      <td>2011-08-27</td>\n",
       "      <td>43</td>\n",
       "      <td>29.0</td>\n",
       "      <td>2.0</td>\n",
       "      <td>NaN</td>\n",
       "      <td>NaN</td>\n",
       "      <td>NaN</td>\n",
       "      <td>NaN</td>\n",
       "      <td>NaN</td>\n",
       "      <td>...</td>\n",
       "      <td>10</td>\n",
       "      <td>3</td>\n",
       "      <td>0</td>\n",
       "      <td>11</td>\n",
       "      <td>27</td>\n",
       "      <td>0</td>\n",
       "      <td>4</td>\n",
       "      <td>67</td>\n",
       "      <td>10</td>\n",
       "      <td>5700000</td>\n",
       "    </tr>\n",
       "    <tr>\n",
       "      <th>3</th>\n",
       "      <td>4</td>\n",
       "      <td>2011-09-01</td>\n",
       "      <td>89</td>\n",
       "      <td>50.0</td>\n",
       "      <td>9.0</td>\n",
       "      <td>NaN</td>\n",
       "      <td>NaN</td>\n",
       "      <td>NaN</td>\n",
       "      <td>NaN</td>\n",
       "      <td>NaN</td>\n",
       "      <td>...</td>\n",
       "      <td>11</td>\n",
       "      <td>2</td>\n",
       "      <td>1</td>\n",
       "      <td>4</td>\n",
       "      <td>4</td>\n",
       "      <td>0</td>\n",
       "      <td>0</td>\n",
       "      <td>26</td>\n",
       "      <td>3</td>\n",
       "      <td>13100000</td>\n",
       "    </tr>\n",
       "    <tr>\n",
       "      <th>4</th>\n",
       "      <td>5</td>\n",
       "      <td>2011-09-05</td>\n",
       "      <td>77</td>\n",
       "      <td>77.0</td>\n",
       "      <td>4.0</td>\n",
       "      <td>NaN</td>\n",
       "      <td>NaN</td>\n",
       "      <td>NaN</td>\n",
       "      <td>NaN</td>\n",
       "      <td>NaN</td>\n",
       "      <td>...</td>\n",
       "      <td>319</td>\n",
       "      <td>108</td>\n",
       "      <td>17</td>\n",
       "      <td>135</td>\n",
       "      <td>236</td>\n",
       "      <td>2</td>\n",
       "      <td>91</td>\n",
       "      <td>195</td>\n",
       "      <td>14</td>\n",
       "      <td>16331452</td>\n",
       "    </tr>\n",
       "  </tbody>\n",
       "</table>\n",
       "<p>5 rows × 292 columns</p>\n",
       "</div>"
      ],
      "text/plain": [
       "<div>\n",
       "<table border=\"1\" class=\"dataframe\">\n",
       "  <thead>\n",
       "    <tr style=\"text-align: right;\">\n",
       "      <th></th>\n",
       "      <th>id</th>\n",
       "      <th>timestamp</th>\n",
       "      <th>full_sq</th>\n",
       "      <th>life_sq</th>\n",
       "      <th>floor</th>\n",
       "      <th>max_floor</th>\n",
       "      <th>material</th>\n",
       "      <th>build_year</th>\n",
       "      <th>num_room</th>\n",
       "      <th>kitch_sq</th>\n",
       "      <th>...</th>\n",
       "      <th>cafe_count_5000_price_2500</th>\n",
       "      <th>cafe_count_5000_price_4000</th>\n",
       "      <th>cafe_count_5000_price_high</th>\n",
       "      <th>big_church_count_5000</th>\n",
       "      <th>church_count_5000</th>\n",
       "      <th>mosque_count_5000</th>\n",
       "      <th>leisure_count_5000</th>\n",
       "      <th>sport_count_5000</th>\n",
       "      <th>market_count_5000</th>\n",
       "      <th>price_doc</th>\n",
       "    </tr>\n",
       "  </thead>\n",
       "  <tbody>\n",
       "    <tr>\n",
       "      <th>0</th>\n",
       "      <td>1</td>\n",
       "      <td>2011-08-20</td>\n",
       "      <td>43</td>\n",
       "      <td>27.0</td>\n",
       "      <td>4.0</td>\n",
       "      <td>NaN</td>\n",
       "      <td>NaN</td>\n",
       "      <td>NaN</td>\n",
       "      <td>NaN</td>\n",
       "      <td>NaN</td>\n",
       "      <td>...</td>\n",
       "      <td>9</td>\n",
       "      <td>4</td>\n",
       "      <td>0</td>\n",
       "      <td>13</td>\n",
       "      <td>22</td>\n",
       "      <td>1</td>\n",
       "      <td>0</td>\n",
       "      <td>52</td>\n",
       "      <td>4</td>\n",
       "      <td>5850000</td>\n",
       "    </tr>\n",
       "    <tr>\n",
       "      <th>1</th>\n",
       "      <td>2</td>\n",
       "      <td>2011-08-23</td>\n",
       "      <td>34</td>\n",
       "      <td>19.0</td>\n",
       "      <td>3.0</td>\n",
       "      <td>NaN</td>\n",
       "      <td>NaN</td>\n",
       "      <td>NaN</td>\n",
       "      <td>NaN</td>\n",
       "      <td>NaN</td>\n",
       "      <td>...</td>\n",
       "      <td>15</td>\n",
       "      <td>3</td>\n",
       "      <td>0</td>\n",
       "      <td>15</td>\n",
       "      <td>29</td>\n",
       "      <td>1</td>\n",
       "      <td>10</td>\n",
       "      <td>66</td>\n",
       "      <td>14</td>\n",
       "      <td>6000000</td>\n",
       "    </tr>\n",
       "    <tr>\n",
       "      <th>2</th>\n",
       "      <td>3</td>\n",
       "      <td>2011-08-27</td>\n",
       "      <td>43</td>\n",
       "      <td>29.0</td>\n",
       "      <td>2.0</td>\n",
       "      <td>NaN</td>\n",
       "      <td>NaN</td>\n",
       "      <td>NaN</td>\n",
       "      <td>NaN</td>\n",
       "      <td>NaN</td>\n",
       "      <td>...</td>\n",
       "      <td>10</td>\n",
       "      <td>3</td>\n",
       "      <td>0</td>\n",
       "      <td>11</td>\n",
       "      <td>27</td>\n",
       "      <td>0</td>\n",
       "      <td>4</td>\n",
       "      <td>67</td>\n",
       "      <td>10</td>\n",
       "      <td>5700000</td>\n",
       "    </tr>\n",
       "    <tr>\n",
       "      <th>3</th>\n",
       "      <td>4</td>\n",
       "      <td>2011-09-01</td>\n",
       "      <td>89</td>\n",
       "      <td>50.0</td>\n",
       "      <td>9.0</td>\n",
       "      <td>NaN</td>\n",
       "      <td>NaN</td>\n",
       "      <td>NaN</td>\n",
       "      <td>NaN</td>\n",
       "      <td>NaN</td>\n",
       "      <td>...</td>\n",
       "      <td>11</td>\n",
       "      <td>2</td>\n",
       "      <td>1</td>\n",
       "      <td>4</td>\n",
       "      <td>4</td>\n",
       "      <td>0</td>\n",
       "      <td>0</td>\n",
       "      <td>26</td>\n",
       "      <td>3</td>\n",
       "      <td>13100000</td>\n",
       "    </tr>\n",
       "    <tr>\n",
       "      <th>4</th>\n",
       "      <td>5</td>\n",
       "      <td>2011-09-05</td>\n",
       "      <td>77</td>\n",
       "      <td>77.0</td>\n",
       "      <td>4.0</td>\n",
       "      <td>NaN</td>\n",
       "      <td>NaN</td>\n",
       "      <td>NaN</td>\n",
       "      <td>NaN</td>\n",
       "      <td>NaN</td>\n",
       "      <td>...</td>\n",
       "      <td>319</td>\n",
       "      <td>108</td>\n",
       "      <td>17</td>\n",
       "      <td>135</td>\n",
       "      <td>236</td>\n",
       "      <td>2</td>\n",
       "      <td>91</td>\n",
       "      <td>195</td>\n",
       "      <td>14</td>\n",
       "      <td>16331452</td>\n",
       "    </tr>\n",
       "  </tbody>\n",
       "</table>\n",
       "<p>5 rows × 292 columns</p>\n",
       "</div>"
      ]
     },
     "execution_count": 4,
     "metadata": {},
     "output_type": "execute_result"
    }
   ],
   "source": [
    "train_data.head()"
   ]
  },
  {
   "cell_type": "code",
   "execution_count": 5,
   "metadata": {
    "collapsed": false
   },
   "outputs": [
    {
     "name": "stdout",
     "output_type": "stream",
     "text": [
      "'total number of data points: 30471'\n"
     ]
    }
   ],
   "source": [
    "n_rows = train_data.shape[0]\n",
    "pp.pprint('total number of data points: {}'.format(n_rows))\n",
    "zero_to_NaN_features = ['life_sq',\n",
    "                        'full_sq',\n",
    "                        'kitch_sq',\n",
    "                        'build_year']\n",
    "train_data[zero_to_NaN_features] = train_data[zero_to_NaN_features] \\\n",
    "    .replace(0, np.NaN)\n",
    "null_sum = train_data.isnull().sum()\n",
    "null_tuple = zip(null_sum.index, null_sum)"
   ]
  },
  {
   "cell_type": "code",
   "execution_count": 6,
   "metadata": {
    "collapsed": false
   },
   "outputs": [],
   "source": [
    "def get_missing(data, minimal=10, full=False):\n",
    "    null_sum = data.isnull().sum()\n",
    "    null_tuple = zip(null_sum.index, null_sum)\n",
    "    return sorted([null_feature for null_feature\n",
    "                   in null_tuple if null_feature[1] > n_rows / minimal],\n",
    "                  key=lambda t: t[1],\n",
    "                  reverse=True) if not full\\\n",
    "        else sorted([null_feature for null_feature\n",
    "                     in null_tuple if null_feature[1] > 0],\n",
    "                    key=lambda t: t[1],\n",
    "                    reverse=True)"
   ]
  },
  {
   "cell_type": "code",
   "execution_count": 7,
   "metadata": {
    "collapsed": false
   },
   "outputs": [
    {
     "data": {
      "text/plain": [
       "[('hospital_beds_raion', 14441),\n ('build_year', 14135),\n ('state', 13559),\n ('cafe_sum_500_min_price_avg', 13281),\n ('cafe_sum_500_max_price_avg', 13281),\n ('cafe_avg_price_500', 13281),\n ('kitch_sq', 10953),\n ('max_floor', 9572),\n ('material', 9572),\n ('num_room', 9572),\n ('preschool_quota', 6688),\n ('school_quota', 6685),\n ('cafe_sum_1000_min_price_avg', 6524),\n ('cafe_sum_1000_max_price_avg', 6524),\n ('cafe_avg_price_1000', 6524),\n ('life_sq', 6428),\n ('raion_build_count_with_material_info', 4991),\n ('build_count_block', 4991),\n ('build_count_wood', 4991),\n ('build_count_frame', 4991),\n ('build_count_brick', 4991),\n ('build_count_monolith', 4991),\n ('build_count_panel', 4991),\n ('build_count_foam', 4991),\n ('build_count_slag', 4991),\n ('build_count_mix', 4991),\n ('raion_build_count_with_builddate_info', 4991),\n ('build_count_before_1920', 4991),\n ('build_count_1921-1945', 4991),\n ('build_count_1946-1970', 4991),\n ('build_count_1971-1995', 4991),\n ('build_count_after_1995', 4991),\n ('cafe_sum_1500_min_price_avg', 4199),\n ('cafe_sum_1500_max_price_avg', 4199),\n ('cafe_avg_price_1500', 4199)]"
      ]
     },
     "execution_count": 7,
     "metadata": {},
     "output_type": "execute_result"
    }
   ],
   "source": [
    "missing_data_features = get_missing(train_data)\n",
    "missing_data_features"
   ]
  },
  {
   "cell_type": "code",
   "execution_count": 8,
   "metadata": {},
   "outputs": [],
   "source": [
    "missing_data_features = [feature[0] for feature in missing_data_features]"
   ]
  },
  {
   "cell_type": "code",
   "execution_count": 9,
   "metadata": {},
   "outputs": [],
   "source": [
    "purged_train_data = train_data.drop(missing_data_features, axis=1)"
   ]
  },
  {
   "cell_type": "code",
   "execution_count": 10,
   "metadata": {},
   "outputs": [
    {
     "data": {
      "text/plain": [
       "[('cafe_sum_2000_min_price_avg', 1725),\n ('cafe_sum_2000_max_price_avg', 1725),\n ('cafe_avg_price_2000', 1725),\n ('cafe_sum_3000_min_price_avg', 991),\n ('cafe_sum_3000_max_price_avg', 991),\n ('cafe_avg_price_3000', 991),\n ('cafe_sum_5000_min_price_avg', 297),\n ('cafe_sum_5000_max_price_avg', 297),\n ('cafe_avg_price_5000', 297),\n ('prom_part_5000', 178),\n ('floor', 167),\n ('metro_min_walk', 25),\n ('metro_km_walk', 25),\n ('railroad_station_walk_km', 25),\n ('railroad_station_walk_min', 25),\n ('ID_railroad_station_walk', 25),\n ('full_sq', 2)]"
      ]
     },
     "execution_count": 10,
     "metadata": {},
     "output_type": "execute_result"
    }
   ],
   "source": [
    "impute_feature = get_missing(purged_train_data, full=True)\n",
    "impute_feature"
   ]
  },
  {
   "cell_type": "code",
   "execution_count": 11,
   "metadata": {},
   "outputs": [
    {
     "name": "stdout",
     "output_type": "stream",
     "text": [
      "number of listings with missing information: 1936\n"
     ]
    }
   ],
   "source": [
    "print 'number of listings with missing information: {}'\\\n",
    "    .format(len(purged_train_data[purged_train_data.isnull().any(axis=1)]))"
   ]
  },
  {
   "cell_type": "code",
   "execution_count": 12,
   "metadata": {
    "collapsed": false
   },
   "outputs": [
    {
     "data": {
      "text/html": [
       "<div>\n",
       "<table border=\"1\" class=\"dataframe\">\n",
       "  <thead>\n",
       "    <tr style=\"text-align: right;\">\n",
       "      <th></th>\n",
       "      <th>id</th>\n",
       "      <th>timestamp</th>\n",
       "      <th>full_sq</th>\n",
       "      <th>floor</th>\n",
       "      <th>product_type</th>\n",
       "      <th>sub_area</th>\n",
       "      <th>area_m</th>\n",
       "      <th>raion_popul</th>\n",
       "      <th>green_zone_part</th>\n",
       "      <th>indust_part</th>\n",
       "      <th>...</th>\n",
       "      <th>cafe_count_5000_price_2500</th>\n",
       "      <th>cafe_count_5000_price_4000</th>\n",
       "      <th>cafe_count_5000_price_high</th>\n",
       "      <th>big_church_count_5000</th>\n",
       "      <th>church_count_5000</th>\n",
       "      <th>mosque_count_5000</th>\n",
       "      <th>leisure_count_5000</th>\n",
       "      <th>sport_count_5000</th>\n",
       "      <th>market_count_5000</th>\n",
       "      <th>price_doc</th>\n",
       "    </tr>\n",
       "  </thead>\n",
       "  <tbody>\n",
       "    <tr>\n",
       "      <th>20</th>\n",
       "      <td>21</td>\n",
       "      <td>2011-09-22</td>\n",
       "      <td>74.0</td>\n",
       "      <td>10.0</td>\n",
       "      <td>Investment</td>\n",
       "      <td>Vnukovo</td>\n",
       "      <td>1.531990e+07</td>\n",
       "      <td>21040</td>\n",
       "      <td>0.051549</td>\n",
       "      <td>0.036270</td>\n",
       "      <td>...</td>\n",
       "      <td>0</td>\n",
       "      <td>0</td>\n",
       "      <td>0</td>\n",
       "      <td>1</td>\n",
       "      <td>5</td>\n",
       "      <td>0</td>\n",
       "      <td>0</td>\n",
       "      <td>0</td>\n",
       "      <td>0</td>\n",
       "      <td>8200000</td>\n",
       "    </tr>\n",
       "    <tr>\n",
       "      <th>178</th>\n",
       "      <td>179</td>\n",
       "      <td>2011-10-22</td>\n",
       "      <td>98.0</td>\n",
       "      <td>NaN</td>\n",
       "      <td>Investment</td>\n",
       "      <td>Kurkino</td>\n",
       "      <td>7.792845e+06</td>\n",
       "      <td>21155</td>\n",
       "      <td>0.528252</td>\n",
       "      <td>0.000000</td>\n",
       "      <td>...</td>\n",
       "      <td>6</td>\n",
       "      <td>1</td>\n",
       "      <td>0</td>\n",
       "      <td>1</td>\n",
       "      <td>3</td>\n",
       "      <td>0</td>\n",
       "      <td>0</td>\n",
       "      <td>10</td>\n",
       "      <td>0</td>\n",
       "      <td>11500000</td>\n",
       "    </tr>\n",
       "    <tr>\n",
       "      <th>187</th>\n",
       "      <td>188</td>\n",
       "      <td>2011-10-24</td>\n",
       "      <td>49.0</td>\n",
       "      <td>NaN</td>\n",
       "      <td>Investment</td>\n",
       "      <td>Nagatinskij Zaton</td>\n",
       "      <td>9.589337e+06</td>\n",
       "      <td>115352</td>\n",
       "      <td>0.372602</td>\n",
       "      <td>0.049637</td>\n",
       "      <td>...</td>\n",
       "      <td>10</td>\n",
       "      <td>2</td>\n",
       "      <td>0</td>\n",
       "      <td>9</td>\n",
       "      <td>30</td>\n",
       "      <td>0</td>\n",
       "      <td>7</td>\n",
       "      <td>66</td>\n",
       "      <td>16</td>\n",
       "      <td>8300000</td>\n",
       "    </tr>\n",
       "    <tr>\n",
       "      <th>195</th>\n",
       "      <td>196</td>\n",
       "      <td>2011-10-25</td>\n",
       "      <td>37.0</td>\n",
       "      <td>NaN</td>\n",
       "      <td>Investment</td>\n",
       "      <td>Nagatinskij Zaton</td>\n",
       "      <td>9.589337e+06</td>\n",
       "      <td>115352</td>\n",
       "      <td>0.372602</td>\n",
       "      <td>0.049637</td>\n",
       "      <td>...</td>\n",
       "      <td>14</td>\n",
       "      <td>4</td>\n",
       "      <td>0</td>\n",
       "      <td>14</td>\n",
       "      <td>32</td>\n",
       "      <td>0</td>\n",
       "      <td>7</td>\n",
       "      <td>69</td>\n",
       "      <td>12</td>\n",
       "      <td>2000000</td>\n",
       "    </tr>\n",
       "    <tr>\n",
       "      <th>215</th>\n",
       "      <td>216</td>\n",
       "      <td>2011-10-26</td>\n",
       "      <td>45.0</td>\n",
       "      <td>NaN</td>\n",
       "      <td>Investment</td>\n",
       "      <td>Chertanovo Juzhnoe</td>\n",
       "      <td>9.282439e+06</td>\n",
       "      <td>143661</td>\n",
       "      <td>0.153279</td>\n",
       "      <td>0.127376</td>\n",
       "      <td>...</td>\n",
       "      <td>9</td>\n",
       "      <td>1</td>\n",
       "      <td>0</td>\n",
       "      <td>7</td>\n",
       "      <td>18</td>\n",
       "      <td>1</td>\n",
       "      <td>1</td>\n",
       "      <td>41</td>\n",
       "      <td>5</td>\n",
       "      <td>2825000</td>\n",
       "    </tr>\n",
       "  </tbody>\n",
       "</table>\n",
       "<p>5 rows × 257 columns</p>\n",
       "</div>"
      ],
      "text/plain": [
       "<div>\n",
       "<table border=\"1\" class=\"dataframe\">\n",
       "  <thead>\n",
       "    <tr style=\"text-align: right;\">\n",
       "      <th></th>\n",
       "      <th>id</th>\n",
       "      <th>timestamp</th>\n",
       "      <th>full_sq</th>\n",
       "      <th>floor</th>\n",
       "      <th>product_type</th>\n",
       "      <th>sub_area</th>\n",
       "      <th>area_m</th>\n",
       "      <th>raion_popul</th>\n",
       "      <th>green_zone_part</th>\n",
       "      <th>indust_part</th>\n",
       "      <th>...</th>\n",
       "      <th>cafe_count_5000_price_2500</th>\n",
       "      <th>cafe_count_5000_price_4000</th>\n",
       "      <th>cafe_count_5000_price_high</th>\n",
       "      <th>big_church_count_5000</th>\n",
       "      <th>church_count_5000</th>\n",
       "      <th>mosque_count_5000</th>\n",
       "      <th>leisure_count_5000</th>\n",
       "      <th>sport_count_5000</th>\n",
       "      <th>market_count_5000</th>\n",
       "      <th>price_doc</th>\n",
       "    </tr>\n",
       "  </thead>\n",
       "  <tbody>\n",
       "    <tr>\n",
       "      <th>20</th>\n",
       "      <td>21</td>\n",
       "      <td>2011-09-22</td>\n",
       "      <td>74.0</td>\n",
       "      <td>10.0</td>\n",
       "      <td>Investment</td>\n",
       "      <td>Vnukovo</td>\n",
       "      <td>1.531990e+07</td>\n",
       "      <td>21040</td>\n",
       "      <td>0.051549</td>\n",
       "      <td>0.036270</td>\n",
       "      <td>...</td>\n",
       "      <td>0</td>\n",
       "      <td>0</td>\n",
       "      <td>0</td>\n",
       "      <td>1</td>\n",
       "      <td>5</td>\n",
       "      <td>0</td>\n",
       "      <td>0</td>\n",
       "      <td>0</td>\n",
       "      <td>0</td>\n",
       "      <td>8200000</td>\n",
       "    </tr>\n",
       "    <tr>\n",
       "      <th>178</th>\n",
       "      <td>179</td>\n",
       "      <td>2011-10-22</td>\n",
       "      <td>98.0</td>\n",
       "      <td>NaN</td>\n",
       "      <td>Investment</td>\n",
       "      <td>Kurkino</td>\n",
       "      <td>7.792845e+06</td>\n",
       "      <td>21155</td>\n",
       "      <td>0.528252</td>\n",
       "      <td>0.000000</td>\n",
       "      <td>...</td>\n",
       "      <td>6</td>\n",
       "      <td>1</td>\n",
       "      <td>0</td>\n",
       "      <td>1</td>\n",
       "      <td>3</td>\n",
       "      <td>0</td>\n",
       "      <td>0</td>\n",
       "      <td>10</td>\n",
       "      <td>0</td>\n",
       "      <td>11500000</td>\n",
       "    </tr>\n",
       "    <tr>\n",
       "      <th>187</th>\n",
       "      <td>188</td>\n",
       "      <td>2011-10-24</td>\n",
       "      <td>49.0</td>\n",
       "      <td>NaN</td>\n",
       "      <td>Investment</td>\n",
       "      <td>Nagatinskij Zaton</td>\n",
       "      <td>9.589337e+06</td>\n",
       "      <td>115352</td>\n",
       "      <td>0.372602</td>\n",
       "      <td>0.049637</td>\n",
       "      <td>...</td>\n",
       "      <td>10</td>\n",
       "      <td>2</td>\n",
       "      <td>0</td>\n",
       "      <td>9</td>\n",
       "      <td>30</td>\n",
       "      <td>0</td>\n",
       "      <td>7</td>\n",
       "      <td>66</td>\n",
       "      <td>16</td>\n",
       "      <td>8300000</td>\n",
       "    </tr>\n",
       "    <tr>\n",
       "      <th>195</th>\n",
       "      <td>196</td>\n",
       "      <td>2011-10-25</td>\n",
       "      <td>37.0</td>\n",
       "      <td>NaN</td>\n",
       "      <td>Investment</td>\n",
       "      <td>Nagatinskij Zaton</td>\n",
       "      <td>9.589337e+06</td>\n",
       "      <td>115352</td>\n",
       "      <td>0.372602</td>\n",
       "      <td>0.049637</td>\n",
       "      <td>...</td>\n",
       "      <td>14</td>\n",
       "      <td>4</td>\n",
       "      <td>0</td>\n",
       "      <td>14</td>\n",
       "      <td>32</td>\n",
       "      <td>0</td>\n",
       "      <td>7</td>\n",
       "      <td>69</td>\n",
       "      <td>12</td>\n",
       "      <td>2000000</td>\n",
       "    </tr>\n",
       "    <tr>\n",
       "      <th>215</th>\n",
       "      <td>216</td>\n",
       "      <td>2011-10-26</td>\n",
       "      <td>45.0</td>\n",
       "      <td>NaN</td>\n",
       "      <td>Investment</td>\n",
       "      <td>Chertanovo Juzhnoe</td>\n",
       "      <td>9.282439e+06</td>\n",
       "      <td>143661</td>\n",
       "      <td>0.153279</td>\n",
       "      <td>0.127376</td>\n",
       "      <td>...</td>\n",
       "      <td>9</td>\n",
       "      <td>1</td>\n",
       "      <td>0</td>\n",
       "      <td>7</td>\n",
       "      <td>18</td>\n",
       "      <td>1</td>\n",
       "      <td>1</td>\n",
       "      <td>41</td>\n",
       "      <td>5</td>\n",
       "      <td>2825000</td>\n",
       "    </tr>\n",
       "  </tbody>\n",
       "</table>\n",
       "<p>5 rows × 257 columns</p>\n",
       "</div>"
      ]
     },
     "execution_count": 12,
     "metadata": {},
     "output_type": "execute_result"
    }
   ],
   "source": [
    "purged_train_data[purged_train_data.isnull().any(axis=1)].head()"
   ]
  },
  {
   "cell_type": "code",
   "execution_count": 13,
   "metadata": {},
   "outputs": [],
   "source": [
    "from datetime import datetime\n",
    "\n",
    "\n",
    "list(purged_train_data)\n",
    "timestamp_datetime = [datetime.strptime(date, '%Y-%m-%d')\n",
    "                      for date in purged_train_data['timestamp']]\n",
    "oldest = min(timestamp_datetime)\n",
    "purged_train_data['delta_timestamp'] = [(date - oldest).days\n",
    "                                        for date in timestamp_datetime]"
   ]
  },
  {
   "cell_type": "code",
   "execution_count": 14,
   "metadata": {},
   "outputs": [
    {
     "name": "stdout",
     "output_type": "stream",
     "text": [
      "total number of sub areas 146\n"
     ]
    },
    {
     "data": {
      "text/plain": [
       "Poselenie Sosenskoe         1776\nNekrasovka                  1611\nPoselenie Vnukovskoe        1372\nPoselenie Moskovskij         925\nPoselenie Voskresenskoe      713\nMitino                       679\nTverskoe                     678\nKrjukovo                     518\nMar'ino                      508\nPoselenie Filimonkovskoe     496\nName: sub_area, dtype: int64"
      ]
     },
     "execution_count": 14,
     "metadata": {},
     "output_type": "execute_result"
    }
   ],
   "source": [
    "print 'total number of sub areas {}'\\\n",
    "    .format(len(purged_train_data['sub_area'].value_counts()))\n",
    "purged_train_data['sub_area'].value_counts().nlargest(10)\n",
    "\n",
    "# TODO add floor back in"
   ]
  },
  {
   "cell_type": "code",
   "execution_count": 15,
   "metadata": {},
   "outputs": [],
   "source": [
    "from StringOneHotEncoder import StringOneHotEncoder\n",
    "\n",
    "encoder = StringOneHotEncoder()\n",
    "one_hot = encoder.fit_transform(purged_train_data['sub_area'])\n",
    "\n",
    "for i in range(one_hot.shape[1]):\n",
    "    purged_train_data['sub_area_one_hot_' + str(i)] = one_hot[:, i].toarray()"
   ]
  },
  {
   "cell_type": "code",
   "execution_count": 16,
   "metadata": {},
   "outputs": [],
   "source": [
    "# from sklearn.neighbors import KNeighborsRegressor\n",
    "# from sklearn.model_selection import train_test_split\n",
    "# \n",
    "# \n",
    "# \n",
    "# subset = purged_train_data.dropna().head(120)\n",
    "# train_x, test_x, train_y, text_y = train_test_split(subset,\n",
    "#                                                     subset['price_doc'],\n",
    "#                                                     test_size=0.2)\n",
    "# \n",
    "# rgr = KNeighborsRegressor()\n",
    "# rgr.fit(train_x, train_y)\n",
    "# \n",
    "# %timeit rgr.predict(test_x)"
   ]
  },
  {
   "cell_type": "code",
   "execution_count": 17,
   "metadata": {},
   "outputs": [
    {
     "data": {
      "text/plain": [
       "<matplotlib.axes._subplots.AxesSubplot at 0x7ffac8f40f90>"
      ]
     },
     "execution_count": 17,
     "metadata": {},
     "output_type": "execute_result"
    },
    {
     "data": {
      "image/png": "[encoded data removed]",
      "text/plain": [
       "<matplotlib.figure.Figure at 0x7ffac8f40950>"
      ]
     },
     "metadata": {},
     "output_type": "display_data"
    }
   ],
   "source": [
    "purged_train_data['shopping_centers_raion']\n",
    "sns.set_style('dark')\n",
    "plt.figure(figsize=(10, 10))\n",
    "sns.barplot(x='shopping_centers_raion', y='price_doc', data=purged_train_data)"
   ]
  },
  {
   "cell_type": "code",
   "execution_count": 18,
   "metadata": {},
   "outputs": [
    {
     "data": {
      "text/plain": [
       "<matplotlib.axes._subplots.AxesSubplot at 0x7ffac8e358d0>"
      ]
     },
     "execution_count": 18,
     "metadata": {},
     "output_type": "execute_result"
    },
    {
     "data": {
      "image/png": "[encoded data removed]",
      "text/plain": [
       "<matplotlib.figure.Figure at 0x7ffac8e35890>"
      ]
     },
     "metadata": {},
     "output_type": "display_data"
    }
   ],
   "source": [
    "plt.figure(figsize=(10, 10))\n",
    "sns.distplot(purged_train_data['price_doc'].values.tolist(), kde=False)"
   ]
  },
  {
   "cell_type": "code",
   "execution_count": 19,
   "metadata": {},
   "outputs": [
    {
     "data": {
      "text/plain": [
       "<matplotlib.axes._subplots.AxesSubplot at 0x7ffac8b75a90>"
      ]
     },
     "execution_count": 19,
     "metadata": {},
     "output_type": "execute_result"
    }
   ],
   "source": [
    "plt.figure(figsize=(15, 15))\n",
    "sns.barplot(x='young_all', y='price_doc', data=purged_train_data, ax=plt.subplot(212))\n",
    "sns.barplot(x='young_male', y='price_doc', data=purged_train_data, ax=plt.subplot(221))\n",
    "sns.barplot(x='young_female', y='price_doc', data=purged_train_data, ax=plt.subplot(222))"
   ]
  },
  {
   "cell_type": "code",
   "execution_count": 20,
   "metadata": {},
   "outputs": [],
   "source": [
    "# plt.figure(figsize=(10, 10))\n",
    "# sns.tsplot(time='delta_timestamp', value='price_doc', data=purged_train_data)"
   ]
  },
  {
   "cell_type": "code",
   "execution_count": 21,
   "metadata": {},
   "outputs": [
    {
     "data": {
      "text/plain": [
       "<matplotlib.axes._subplots.AxesSubplot at 0x7fb0ed0258d0>"
      ]
     },
     "execution_count": 21,
     "metadata": {},
     "output_type": "execute_result"
    },
    {
     "data": {
      "image/png": "[encoded data removed]",
      "text/plain": [
       "<matplotlib.figure.Figure at 0x7fb0ed174a90>"
      ]
     },
     "metadata": {},
     "output_type": "display_data"
    }
   ],
   "source": [
    "sns.barplot(x='work_all', y='price_doc', data=purged_train_data)"
   ]
  },
  {
   "cell_type": "code",
   "execution_count": 25,
   "metadata": {},
   "outputs": [
    {
     "name": "stdout",
     "output_type": "stream",
     "text": [
      "1 loop, best of 3: 343 ms per loop\n"
     ]
    },
    {
     "name": "stdout",
     "output_type": "stream",
     "text": [
      "1 loop, best of 3: 327 ms per loop\n"
     ]
    }
   ],
   "source": [
    "exclude = ['work_all',\n",
    "           'work_female',\n",
    "           'work_male',\n",
    "           'young_all',\n",
    "           'young_male',\n",
    "           'young_female']\n",
    "copied = purged_train_data.copy()\n",
    "all_col = list(purged_train_data)\n",
    "\n",
    "%timeit cols = copied[[cl for cl in all_col if cl not in exclude]]\n",
    "%timeit cols = copied.drop(exclude, axis=1)"
   ]
  },
  {
   "cell_type": "code",
   "execution_count": 30,
   "metadata": {},
   "outputs": [],
   "source": [
    ""
   ]
  },
  {
   "cell_type": "code",
   "execution_count": null,
   "metadata": {},
   "outputs": [],
   "source": [
    ""
   ]
  }
 ],
 "metadata": {
  "kernelspec": {
   "display_name": "Python 2",
   "language": "python",
   "name": "python2"
  },
  "language_info": {
   "codemirror_mode": {
    "name": "ipython",
    "version": 2.0
   },
   "file_extension": ".py",
   "mimetype": "text/x-python",
   "name": "python",
   "nbconvert_exporter": "python",
   "pygments_lexer": "ipython2",
   "version": "2.7.6"
  }
 },
 "nbformat": 4,
 "nbformat_minor": 0
}